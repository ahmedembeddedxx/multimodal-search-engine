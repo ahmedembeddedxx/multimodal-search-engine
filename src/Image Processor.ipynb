{
 "cells": [
  {
   "cell_type": "code",
   "execution_count": 1,
   "id": "fd11be01",
   "metadata": {},
   "outputs": [],
   "source": [
    "from transformers import CLIPProcessor, CLIPModel\n",
    "from PIL import Image\n",
    "import io\n",
    "from tqdm import tqdm\n",
    "import os\n",
    "from IPython.display import display\n",
    "import numpy as np\n",
    "import torch"
   ]
  },
  {
   "cell_type": "code",
   "execution_count": 2,
   "id": "54c71d87",
   "metadata": {
    "scrolled": true
   },
   "outputs": [],
   "source": [
    "device = torch.device('mps' if torch.backends.mps.is_available() else 'cpu')\n",
    "    \n",
    "clip_processor = CLIPProcessor.from_pretrained(\"openai/clip-vit-base-patch32\")\n",
    "clip_model = CLIPModel.from_pretrained(\"openai/clip-vit-base-patch32\")\n",
    "\n",
    "clip_model = clip_model.to(device)"
   ]
  },
  {
   "cell_type": "code",
   "execution_count": 3,
   "id": "fb07eebe",
   "metadata": {},
   "outputs": [],
   "source": [
    "def process_image(image_bytes):\n",
    "    image = Image.open(io.BytesIO(image_bytes)).convert(\"RGB\")\n",
    "\n",
    "    inputs = clip_processor(\n",
    "        images=image,\n",
    "        return_tensors=\"pt\"\n",
    "    )\n",
    "\n",
    "    for key in inputs.keys():\n",
    "        inputs[key] = inputs[key].to(device)\n",
    "\n",
    "    image_features = clip_model.get_image_features(pixel_values=inputs.pixel_values)\n",
    "\n",
    "    return image_features.cpu().detach()"
   ]
  },
  {
   "cell_type": "code",
   "execution_count": 4,
   "id": "da68bea9",
   "metadata": {},
   "outputs": [],
   "source": [
    "def process_all_images(folder_name):\n",
    "    if not os.path.exists(\"image_embeddings\"):\n",
    "        os.makedirs(\"image_embeddings\")\n",
    "\n",
    "    files = [f for f in os.listdir(folder_name) if os.path.isfile(os.path.join(folder_name, f))]\n",
    "    image_files = [file for file in files if file.lower().endswith(('.png', '.jpg', '.jpeg', '.bmp'))]\n",
    "    total_files = len(image_files)\n",
    "\n",
    "    with tqdm(total=total_files, desc=\"Processing images\", leave=False) as pbar:\n",
    "        for file in image_files:\n",
    "            item_path = os.path.join(folder_name, file)\n",
    "            with open(item_path, \"rb\") as f:\n",
    "                image_bytes = f.read()\n",
    "\n",
    "            image_features = process_image(image_bytes)\n",
    "            torch.save(image_features, os.path.join(\"image_embeddings\", f\"{file}.pt\"))\n",
    "\n",
    "            pbar.update(1)"
   ]
  },
  {
   "cell_type": "code",
   "execution_count": 5,
   "id": "e2f7d22f",
   "metadata": {},
   "outputs": [
    {
     "name": "stderr",
     "output_type": "stream",
     "text": [
      "                                                                                "
     ]
    },
    {
     "name": "stdout",
     "output_type": "stream",
     "text": [
      "All images converted to embeddings\n"
     ]
    },
    {
     "name": "stderr",
     "output_type": "stream",
     "text": [
      "\r"
     ]
    }
   ],
   "source": [
    "process_all_images(folder_name=\"MiniData/\")\n",
    "print(\"All images converted to embeddings\")"
   ]
  },
  {
   "cell_type": "code",
   "execution_count": null,
   "id": "48ef27e3",
   "metadata": {},
   "outputs": [],
   "source": []
  }
 ],
 "metadata": {
  "kernelspec": {
   "display_name": "Python 3 (ipykernel)",
   "language": "python",
   "name": "python3"
  },
  "language_info": {
   "codemirror_mode": {
    "name": "ipython",
    "version": 3
   },
   "file_extension": ".py",
   "mimetype": "text/x-python",
   "name": "python",
   "nbconvert_exporter": "python",
   "pygments_lexer": "ipython3",
   "version": "3.11.5"
  }
 },
 "nbformat": 4,
 "nbformat_minor": 5
}
